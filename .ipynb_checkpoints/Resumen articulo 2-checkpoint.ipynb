{
 "cells": [
  {
   "cell_type": "markdown",
   "metadata": {},
   "source": [
    "## **Resumen Articulo 2**\n",
    "### 5 REASONS YOU SHOULD LEARN PYTHON NOW\n",
    "\n",
    "**¿Python es útil?**\n",
    "1. Es facil de usar, potente, y versatil y es tanto una opción para principiantes como expertos, y es muy bueno para ser un primer lenguaje para programar.\n",
    "2. Dropbox esta hecha con Python \n",
    "3. Google también usa una combinación entre el lenguaje C++ y Python. Python se usaba para partes donde se requeria un rápido mantenimiento y fuera más facil programar.\n",
    "4. Spotify también es una combinación de lenguajes entre Java y Python, donde se utiliza Python para la cosas como la interfaz API, asi como el analisis de datos.\n",
    "5. En estas empresas, puedes ver que se benefician de Python por su facilidad de uso y porque es excelente para la creación rápida de prototipos e iteraciones. También puede ver que Python se puede usar para una amplia variedad de aplicaciones y, a medida que aprenda los conceptos básicos de Python, podrá crear casi cualquier cosa que desee."
   ]
  },
  {
   "cell_type": "markdown",
   "metadata": {},
   "source": []
  }
 ],
 "metadata": {
  "kernelspec": {
   "display_name": "Python 3",
   "language": "python",
   "name": "python3"
  },
  "language_info": {
   "codemirror_mode": {
    "name": "ipython",
    "version": 3
   },
   "file_extension": ".py",
   "mimetype": "text/x-python",
   "name": "python",
   "nbconvert_exporter": "python",
   "pygments_lexer": "ipython3",
   "version": "3.8.3"
  }
 },
 "nbformat": 4,
 "nbformat_minor": 4
}
