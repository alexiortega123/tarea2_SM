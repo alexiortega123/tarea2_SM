{
 "cells": [
  {
   "cell_type": "markdown",
   "metadata": {},
   "source": [
    "## **Resumen Articulo 1**\n",
    "### Python is becoming the world’s most popular coding language###\n",
    "> No pense crear un lenguaje para un consumo en masa.\n",
    "\n",
    "dijo Guido van Rossum, el programador que desarrollo Python en 1989.\n",
    "\n",
    "El desarrollo de python en estas tres decadas ha dejado atras a la mayoria de sus rivales llegando al punto que en Estados Unidos se busca más Python en Google que Kim Kardashian.\n",
    "\n",
    "Las dos ventajas principales de Python:\n",
    "1. simplicidad \n",
    "2. flexibilidad\n",
    "\n",
    "Ya que su sintaxis hace fácil aprenderlo, leerlo y compartirlo.\n",
    "A pesar de su rápido crecimiento y todas las capacidades que tiene de poder ser el mejor lenguaje de programación en el mundo y hacer su competencia nula, Python no reemplazará a C y C ++, que son \"opciones de nivel inferior\" que le dan al usuario más control sobre lo que sucede en el procesador de una computadora. Tampoco acabará con Java, que es popular para crear aplicaciones complicadas, o JavaScript, que impulsa la mayoría de las páginas web.\n",
    "\n"
   ]
  },
  {
   "cell_type": "code",
   "execution_count": null,
   "metadata": {},
   "outputs": [],
   "source": []
  }
 ],
 "metadata": {
  "kernelspec": {
   "display_name": "Python 3",
   "language": "python",
   "name": "python3"
  },
  "language_info": {
   "codemirror_mode": {
    "name": "ipython",
    "version": 3
   },
   "file_extension": ".py",
   "mimetype": "text/x-python",
   "name": "python",
   "nbconvert_exporter": "python",
   "pygments_lexer": "ipython3",
   "version": "3.8.3"
  }
 },
 "nbformat": 4,
 "nbformat_minor": 4
}
